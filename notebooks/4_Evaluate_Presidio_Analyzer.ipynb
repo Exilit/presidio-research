{
 "cells": [
  {
   "cell_type": "code",
   "execution_count": 1,
   "metadata": {},
   "outputs": [],
   "source": [
    "from presidio_evaluator import InputSample\n",
    "from presidio_evaluator.evaluation import ModelError, Evaluator\n",
    "from presidio_evaluator.models import PresidioAnalyzerWrapper\n",
    "from presidio_analyzer import AnalyzerEngine\n",
    "from collections import Counter\n",
    "\n",
    "import pandas as pd\n",
    "\n",
    "%load_ext autoreload\n",
    "%autoreload 2\n",
    "\n",
    "pd.options.display.max_columns = None\n",
    "pd.options.display.width=None"
   ]
  },
  {
   "cell_type": "markdown",
   "metadata": {},
   "source": [
    "# Evaluate Presidio Analyzer\n",
    "This notebook runs the PresidioAnalyzerEvaluator class on top of synthetic data.\n",
    "\n",
    "One can perform the following changes:\n",
    "1. Replace the synthetic data creation with real data or with other type of synthetic data\n",
    "2. Adapt the Presidio `AnalyzerEngine` to a specific engine with a different set of recognizers or configured to be used on different languages\n",
    "\n",
    "\n"
   ]
  },
  {
   "cell_type": "markdown",
   "metadata": {},
   "source": [
    "#### A. Read dataset for evaluation"
   ]
  },
  {
   "cell_type": "code",
   "execution_count": 2,
   "metadata": {},
   "outputs": [
    {
     "name": "stderr",
     "output_type": "stream",
     "text": [
      "\r",
      "tokenizing input:   0%|                                                                       | 0/3000 [00:00<?, ?it/s]"
     ]
    },
    {
     "name": "stdout",
     "output_type": "stream",
     "text": [
      "loading model en_core_web_sm\n"
     ]
    },
    {
     "name": "stderr",
     "output_type": "stream",
     "text": [
      "tokenizing input: 100%|███████████████████████████████████████████████████████████| 3000/3000 [00:25<00:00, 118.48it/s]"
     ]
    },
    {
     "name": "stdout",
     "output_type": "stream",
     "text": [
      "Read 3000 samples\n"
     ]
    },
    {
     "name": "stderr",
     "output_type": "stream",
     "text": [
      "\n"
     ]
    },
    {
     "data": {
      "text/plain": [
       "Full text: I want to update my primary and secondary address to the same: 19 Ingelbrecht Knudssøns gate 222\n",
       " Suite 598\n",
       " OSLO\n",
       " Bangladesh\n",
       "Spans: [Type: ADDRESS, value: 19 Ingelbrecht Knudssøns gate 222\n",
       " Suite 598\n",
       " OSLO\n",
       " Bangladesh, start: 63, end: 125]\n",
       "Tokens: I want to update my primary and secondary address to the same: 19 Ingelbrecht Knudssøns gate 222\n",
       " Suite 598\n",
       " OSLO\n",
       " Bangladesh\n",
       "Tags: ['O', 'O', 'O', 'O', 'O', 'O', 'O', 'O', 'O', 'O', 'O', 'O', 'O', 'ADDRESS', 'ADDRESS', 'ADDRESS', 'ADDRESS', 'ADDRESS', 'ADDRESS', 'ADDRESS', 'ADDRESS', 'ADDRESS', 'ADDRESS', 'ADDRESS', 'ADDRESS']"
      ]
     },
     "execution_count": 2,
     "metadata": {},
     "output_type": "execute_result"
    }
   ],
   "source": [
    "input_samples = InputSample.read_dataset_json(\"../data/synth_dataset.json\")\n",
    "print(\"Read {} samples\".format(len(input_samples)))\n",
    "input_samples[0]"
   ]
  },
  {
   "cell_type": "markdown",
   "metadata": {},
   "source": [
    "#### B. Descriptive statistics"
   ]
  },
  {
   "cell_type": "code",
   "execution_count": 3,
   "metadata": {},
   "outputs": [
    {
     "data": {
      "text/plain": [
       "Counter({'ADDRESS': 1512,\n",
       "         'LOCATION': 817,\n",
       "         'PHONE_NUMBER': 264,\n",
       "         'PERSON': 1800,\n",
       "         'CREDIT_CARD': 313,\n",
       "         'IBAN_CODE': 41,\n",
       "         'US_SSN': 44,\n",
       "         'ORGANIZATION': 448,\n",
       "         'DOMAIN_NAME': 40,\n",
       "         'EMAIL_ADDRESS': 71,\n",
       "         'PREFIX': 43,\n",
       "         'DATE_TIME': 112,\n",
       "         'TITLE': 23,\n",
       "         'IP_ADDRESS': 24,\n",
       "         'US_DRIVER_LICENSE': 13})"
      ]
     },
     "execution_count": 3,
     "metadata": {},
     "output_type": "execute_result"
    }
   ],
   "source": [
    "flatten = lambda l: [item for sublist in l for item in sublist]\n",
    "\n",
    "count_per_entity = Counter([span.entity_type for span in flatten([input_sample.spans for input_sample in input_samples])])\n",
    "count_per_entity"
   ]
  },
  {
   "cell_type": "markdown",
   "metadata": {},
   "source": [
    "#### C. Remove entities not supported by Presidio"
   ]
  },
  {
   "cell_type": "code",
   "execution_count": 4,
   "metadata": {},
   "outputs": [
    {
     "data": {
      "text/plain": [
       "{'CREDIT_CARD',\n",
       " 'DATE_TIME',\n",
       " 'DOMAIN_NAME',\n",
       " 'EMAIL_ADDRESS',\n",
       " 'IBAN_CODE',\n",
       " 'IP_ADDRESS',\n",
       " 'LOCATION',\n",
       " 'ORGANIZATION',\n",
       " 'PERSON',\n",
       " 'PHONE_NUMBER',\n",
       " 'US_DRIVER_LICENSE',\n",
       " 'US_SSN'}"
      ]
     },
     "execution_count": 4,
     "metadata": {},
     "output_type": "execute_result"
    }
   ],
   "source": [
    "entities_to_ignore = {\"ADDRESS\", \"TITLE\", \"PREFIX\"}\n",
    "entities_to_keep = set(count_per_entity.keys()) - entities_to_ignore\n",
    "entities_to_keep"
   ]
  },
  {
   "cell_type": "markdown",
   "metadata": {},
   "source": [
    "#### D. Run the presidio-evaluator framework with Presidio's API as the 'model' at test"
   ]
  },
  {
   "cell_type": "code",
   "execution_count": 5,
   "metadata": {},
   "outputs": [
    {
     "name": "stdout",
     "output_type": "stream",
     "text": [
      "Entities supported by this Presidio Analyzer instance:\n",
      "MEDICAL_LICENSE, DOMAIN_NAME, UK_NHS, AU_ACN, CRYPTO, CREDIT_CARD, AU_ABN, US_ITIN, LOCATION, NRP, US_DRIVER_LICENSE, PHONE_NUMBER, PERSON, AU_TFN, EMAIL_ADDRESS, US_SSN, IP_ADDRESS, US_PASSPORT, US_BANK_NUMBER, SG_NRIC_FIN, AU_MEDICARE, IBAN_CODE, DATE_TIME\n",
      "Entity ORGANIZATION is not supported by this instance of Presidio Analyzer Engine\n",
      "Added ORGANIZATION as a supported entity from spaCy/Stanza\n"
     ]
    },
    {
     "name": "stderr",
     "output_type": "stream",
     "text": [
      "Evaluating <class 'presidio_evaluator.evaluation.evaluator.Evaluator'>: 100%|██████| 3000/3000 [00:31<00:00, 95.34it/s]\n"
     ]
    }
   ],
   "source": [
    "presidio = PresidioAnalyzerWrapper(entities_to_keep=list(entities_to_keep))\n",
    "evaluator = Evaluator(model=presidio)\n",
    "evaluted_samples = evaluator.evaluate_all(input_samples)"
   ]
  },
  {
   "cell_type": "markdown",
   "metadata": {},
   "source": [
    "#### D. Extract statistics\n",
    "- Presicion, recall and F measure are calculated based on a PII/Not PII binary classification per token.\n",
    "- Specific entity recall and precision are calculated on the specific PII entity level."
   ]
  },
  {
   "cell_type": "code",
   "execution_count": 6,
   "metadata": {},
   "outputs": [],
   "source": [
    "evaluation_result = evaluator.calculate_score(evaluted_samples)"
   ]
  },
  {
   "cell_type": "code",
   "execution_count": 7,
   "metadata": {},
   "outputs": [
    {
     "name": "stdout",
     "output_type": "stream",
     "text": [
      "                        Entity                     Precision                        Recall             Number of samples\n",
      "                   CREDIT_CARD                       100.00%                       100.00%                          2728\n",
      "                     DATE_TIME                        14.72%                        89.14%                            40\n",
      "                   DOMAIN_NAME                       100.00%                        82.50%                            41\n",
      "                 EMAIL_ADDRESS                       100.00%                       100.00%                           313\n",
      "                     IBAN_CODE                       100.00%                        90.24%                          1114\n",
      "                    IP_ADDRESS                        91.18%                        83.78%                            71\n",
      "                      LOCATION                        53.84%                        35.91%                           220\n",
      "                  ORGANIZATION                        24.24%                        53.62%                           897\n",
      "                        PERSON                        68.44%                        82.73%                            37\n",
      "                  PHONE_NUMBER                        99.40%                        48.07%                            14\n",
      "             US_DRIVER_LICENSE                        88.89%                        57.14%                          1034\n",
      "                        US_SSN                        98.62%                        97.73%                           267\n",
      "PII F measure: 0.7567568887066222\n"
     ]
    }
   ],
   "source": [
    "evaluation_result.print()"
   ]
  },
  {
   "cell_type": "markdown",
   "metadata": {},
   "source": [
    "#### G. Analyze wrong predictions"
   ]
  },
  {
   "cell_type": "code",
   "execution_count": 8,
   "metadata": {},
   "outputs": [],
   "source": [
    "errors = evaluation_result.model_errors"
   ]
  },
  {
   "cell_type": "code",
   "execution_count": 9,
   "metadata": {},
   "outputs": [
    {
     "name": "stdout",
     "output_type": "stream",
     "text": [
      "Most common false positive tokens:\n",
      "[('\\n', 202), ('the', 110), ('\\n ', 96), ('last', 68), ('year', 48)]\n",
      "Example sentence with each FP token:\n",
      "how do i change my address to unit 9456 box 8731\n",
      "dpo ap 71610 for post mail?\n",
      "Muslija began writing as a teenager, publishing her first story, \"The Dimensions of a Shadow\", in 1950 while studying English and journalism at the University of El Tanque.\n",
      "As promised, here's Božica's address:\n",
      "\n",
      "99 Sahankatu 77\n",
      "Ortovero\n",
      ", SV\n",
      " Nigeria 21148\n",
      "At my suggestion, one morning over breakfast, she agreed, and on the last Sunday before Labor Day we returned to Los Angeles by helicopter.\n",
      "Ewan spent a year at BBC as the assistant to Aaron Panina, and the following year at Sanders-Gill in Seguin, which later became Weather Decision Technologies in 1965.\n"
     ]
    }
   ],
   "source": [
    "ModelError.most_common_fp_tokens(errors,n=5)"
   ]
  },
  {
   "cell_type": "code",
   "execution_count": 10,
   "metadata": {
    "pycharm": {
     "name": "#%%\n"
    }
   },
   "outputs": [
    {
     "data": {
      "text/html": [
       "<div>\n",
       "<style scoped>\n",
       "    .dataframe tbody tr th:only-of-type {\n",
       "        vertical-align: middle;\n",
       "    }\n",
       "\n",
       "    .dataframe tbody tr th {\n",
       "        vertical-align: top;\n",
       "    }\n",
       "\n",
       "    .dataframe thead th {\n",
       "        text-align: right;\n",
       "    }\n",
       "</style>\n",
       "<table border=\"1\" class=\"dataframe\">\n",
       "  <thead>\n",
       "    <tr style=\"text-align: right;\">\n",
       "      <th></th>\n",
       "      <th>error_type</th>\n",
       "      <th>annotation</th>\n",
       "      <th>prediction</th>\n",
       "      <th>token</th>\n",
       "      <th>full_text</th>\n",
       "      <th>0</th>\n",
       "    </tr>\n",
       "  </thead>\n",
       "  <tbody>\n",
       "    <tr>\n",
       "      <th>0</th>\n",
       "      <td>FP</td>\n",
       "      <td>O</td>\n",
       "      <td>DATE_TIME</td>\n",
       "      <td>8731</td>\n",
       "      <td>how do i change my address to unit 9456 box 87...</td>\n",
       "      <td>None</td>\n",
       "    </tr>\n",
       "    <tr>\n",
       "      <th>1</th>\n",
       "      <td>FP</td>\n",
       "      <td>O</td>\n",
       "      <td>DATE_TIME</td>\n",
       "      <td>\\n</td>\n",
       "      <td>how do i change my address to unit 9456 box 87...</td>\n",
       "      <td>None</td>\n",
       "    </tr>\n",
       "    <tr>\n",
       "      <th>2</th>\n",
       "      <td>FP</td>\n",
       "      <td>O</td>\n",
       "      <td>DATE_TIME</td>\n",
       "      <td>dpo</td>\n",
       "      <td>how do i change my address to unit 9456 box 87...</td>\n",
       "      <td>None</td>\n",
       "    </tr>\n",
       "    <tr>\n",
       "      <th>3</th>\n",
       "      <td>FP</td>\n",
       "      <td>O</td>\n",
       "      <td>DATE_TIME</td>\n",
       "      <td>ap</td>\n",
       "      <td>how do i change my address to unit 9456 box 87...</td>\n",
       "      <td>None</td>\n",
       "    </tr>\n",
       "    <tr>\n",
       "      <th>4</th>\n",
       "      <td>FP</td>\n",
       "      <td>O</td>\n",
       "      <td>DATE_TIME</td>\n",
       "      <td>71610</td>\n",
       "      <td>how do i change my address to unit 9456 box 87...</td>\n",
       "      <td>None</td>\n",
       "    </tr>\n",
       "    <tr>\n",
       "      <th>...</th>\n",
       "      <td>...</td>\n",
       "      <td>...</td>\n",
       "      <td>...</td>\n",
       "      <td>...</td>\n",
       "      <td>...</td>\n",
       "      <td>...</td>\n",
       "    </tr>\n",
       "    <tr>\n",
       "      <th>1224</th>\n",
       "      <td>FP</td>\n",
       "      <td>O</td>\n",
       "      <td>DATE_TIME</td>\n",
       "      <td>this</td>\n",
       "      <td>My card 5115922521155230 is expiring this mont...</td>\n",
       "      <td>None</td>\n",
       "    </tr>\n",
       "    <tr>\n",
       "      <th>1225</th>\n",
       "      <td>FP</td>\n",
       "      <td>O</td>\n",
       "      <td>DATE_TIME</td>\n",
       "      <td>month</td>\n",
       "      <td>My card 5115922521155230 is expiring this mont...</td>\n",
       "      <td>None</td>\n",
       "    </tr>\n",
       "    <tr>\n",
       "      <th>1226</th>\n",
       "      <td>FP</td>\n",
       "      <td>O</td>\n",
       "      <td>DATE_TIME</td>\n",
       "      <td>33649</td>\n",
       "      <td>As promised, here's Zlata's address:\\n\\n29 Rue...</td>\n",
       "      <td>None</td>\n",
       "    </tr>\n",
       "    <tr>\n",
       "      <th>1227</th>\n",
       "      <td>FP</td>\n",
       "      <td>O</td>\n",
       "      <td>DATE_TIME</td>\n",
       "      <td>2</td>\n",
       "      <td>Follow up with Edward Baranova in 2 months.</td>\n",
       "      <td>None</td>\n",
       "    </tr>\n",
       "    <tr>\n",
       "      <th>1228</th>\n",
       "      <td>FP</td>\n",
       "      <td>O</td>\n",
       "      <td>DATE_TIME</td>\n",
       "      <td>months</td>\n",
       "      <td>Follow up with Edward Baranova in 2 months.</td>\n",
       "      <td>None</td>\n",
       "    </tr>\n",
       "  </tbody>\n",
       "</table>\n",
       "<p>1229 rows × 6 columns</p>\n",
       "</div>"
      ],
      "text/plain": [
       "     error_type annotation prediction   token  \\\n",
       "0            FP          O  DATE_TIME    8731   \n",
       "1            FP          O  DATE_TIME      \\n   \n",
       "2            FP          O  DATE_TIME     dpo   \n",
       "3            FP          O  DATE_TIME      ap   \n",
       "4            FP          O  DATE_TIME   71610   \n",
       "...         ...        ...        ...     ...   \n",
       "1224         FP          O  DATE_TIME    this   \n",
       "1225         FP          O  DATE_TIME   month   \n",
       "1226         FP          O  DATE_TIME   33649   \n",
       "1227         FP          O  DATE_TIME       2   \n",
       "1228         FP          O  DATE_TIME  months   \n",
       "\n",
       "                                              full_text     0  \n",
       "0     how do i change my address to unit 9456 box 87...  None  \n",
       "1     how do i change my address to unit 9456 box 87...  None  \n",
       "2     how do i change my address to unit 9456 box 87...  None  \n",
       "3     how do i change my address to unit 9456 box 87...  None  \n",
       "4     how do i change my address to unit 9456 box 87...  None  \n",
       "...                                                 ...   ...  \n",
       "1224  My card 5115922521155230 is expiring this mont...  None  \n",
       "1225  My card 5115922521155230 is expiring this mont...  None  \n",
       "1226  As promised, here's Zlata's address:\\n\\n29 Rue...  None  \n",
       "1227        Follow up with Edward Baranova in 2 months.  None  \n",
       "1228        Follow up with Edward Baranova in 2 months.  None  \n",
       "\n",
       "[1229 rows x 6 columns]"
      ]
     },
     "execution_count": 10,
     "metadata": {},
     "output_type": "execute_result"
    }
   ],
   "source": [
    "fps_df = ModelError.get_fps_dataframe(errors,entity='DATE_TIME')\n",
    "if fps_df is not None:\n",
    "    fps_df[['full_text','token','prediction']]\n",
    "fps_df"
   ]
  },
  {
   "cell_type": "code",
   "execution_count": 11,
   "metadata": {},
   "outputs": [
    {
     "data": {
      "text/html": [
       "<div>\n",
       "<style scoped>\n",
       "    .dataframe tbody tr th:only-of-type {\n",
       "        vertical-align: middle;\n",
       "    }\n",
       "\n",
       "    .dataframe tbody tr th {\n",
       "        vertical-align: top;\n",
       "    }\n",
       "\n",
       "    .dataframe thead th {\n",
       "        text-align: right;\n",
       "    }\n",
       "</style>\n",
       "<table border=\"1\" class=\"dataframe\">\n",
       "  <thead>\n",
       "    <tr style=\"text-align: right;\">\n",
       "      <th></th>\n",
       "      <th>error_type</th>\n",
       "      <th>annotation</th>\n",
       "      <th>prediction</th>\n",
       "      <th>token</th>\n",
       "      <th>full_text</th>\n",
       "      <th>0</th>\n",
       "    </tr>\n",
       "  </thead>\n",
       "  <tbody>\n",
       "    <tr>\n",
       "      <th>0</th>\n",
       "      <td>Wrong entity</td>\n",
       "      <td>PHONE_NUMBER</td>\n",
       "      <td>DATE_TIME</td>\n",
       "      <td>0910</td>\n",
       "      <td>Terry Cardoso PhD\\n\\n65 Bodbysund 61\\n Suite 5...</td>\n",
       "      <td>None</td>\n",
       "    </tr>\n",
       "    <tr>\n",
       "      <th>1</th>\n",
       "      <td>Wrong entity</td>\n",
       "      <td>PHONE_NUMBER</td>\n",
       "      <td>DATE_TIME</td>\n",
       "      <td>-</td>\n",
       "      <td>Terry Cardoso PhD\\n\\n65 Bodbysund 61\\n Suite 5...</td>\n",
       "      <td>None</td>\n",
       "    </tr>\n",
       "    <tr>\n",
       "      <th>2</th>\n",
       "      <td>Wrong entity</td>\n",
       "      <td>PHONE_NUMBER</td>\n",
       "      <td>DATE_TIME</td>\n",
       "      <td>5877671</td>\n",
       "      <td>Terry Cardoso PhD\\n\\n65 Bodbysund 61\\n Suite 5...</td>\n",
       "      <td>None</td>\n",
       "    </tr>\n",
       "    <tr>\n",
       "      <th>3</th>\n",
       "      <td>Wrong entity</td>\n",
       "      <td>PHONE_NUMBER</td>\n",
       "      <td>DATE_TIME</td>\n",
       "      <td>-</td>\n",
       "      <td>Terry Cardoso PhD\\n\\n65 Bodbysund 61\\n Suite 5...</td>\n",
       "      <td>None</td>\n",
       "    </tr>\n",
       "    <tr>\n",
       "      <th>4</th>\n",
       "      <td>Wrong entity</td>\n",
       "      <td>PHONE_NUMBER</td>\n",
       "      <td>DATE_TIME</td>\n",
       "      <td>4466x8827</td>\n",
       "      <td>Terry Cardoso PhD\\n\\n65 Bodbysund 61\\n Suite 5...</td>\n",
       "      <td>None</td>\n",
       "    </tr>\n",
       "    <tr>\n",
       "      <th>...</th>\n",
       "      <td>...</td>\n",
       "      <td>...</td>\n",
       "      <td>...</td>\n",
       "      <td>...</td>\n",
       "      <td>...</td>\n",
       "      <td>...</td>\n",
       "    </tr>\n",
       "    <tr>\n",
       "      <th>532</th>\n",
       "      <td>FN</td>\n",
       "      <td>PHONE_NUMBER</td>\n",
       "      <td>O</td>\n",
       "      <td>81</td>\n",
       "      <td>Kelly Björgvinsdóttir\\nAdaptive\\n63 Via Verban...</td>\n",
       "      <td>None</td>\n",
       "    </tr>\n",
       "    <tr>\n",
       "      <th>533</th>\n",
       "      <td>FN</td>\n",
       "      <td>PHONE_NUMBER</td>\n",
       "      <td>O</td>\n",
       "      <td>21</td>\n",
       "      <td>Laura Gorski\\nMinistry Of Agriculture\\n07 57 a...</td>\n",
       "      <td>None</td>\n",
       "    </tr>\n",
       "    <tr>\n",
       "      <th>534</th>\n",
       "      <td>FN</td>\n",
       "      <td>PHONE_NUMBER</td>\n",
       "      <td>O</td>\n",
       "      <td>232</td>\n",
       "      <td>Laura Gorski\\nMinistry Of Agriculture\\n07 57 a...</td>\n",
       "      <td>None</td>\n",
       "    </tr>\n",
       "    <tr>\n",
       "      <th>535</th>\n",
       "      <td>FN</td>\n",
       "      <td>PHONE_NUMBER</td>\n",
       "      <td>O</td>\n",
       "      <td>945</td>\n",
       "      <td>Laura Gorski\\nMinistry Of Agriculture\\n07 57 a...</td>\n",
       "      <td>None</td>\n",
       "    </tr>\n",
       "    <tr>\n",
       "      <th>536</th>\n",
       "      <td>FN</td>\n",
       "      <td>PHONE_NUMBER</td>\n",
       "      <td>O</td>\n",
       "      <td>1338</td>\n",
       "      <td>Laura Gorski\\nMinistry Of Agriculture\\n07 57 a...</td>\n",
       "      <td>None</td>\n",
       "    </tr>\n",
       "  </tbody>\n",
       "</table>\n",
       "<p>537 rows × 6 columns</p>\n",
       "</div>"
      ],
      "text/plain": [
       "       error_type    annotation prediction      token  \\\n",
       "0    Wrong entity  PHONE_NUMBER  DATE_TIME       0910   \n",
       "1    Wrong entity  PHONE_NUMBER  DATE_TIME          -   \n",
       "2    Wrong entity  PHONE_NUMBER  DATE_TIME    5877671   \n",
       "3    Wrong entity  PHONE_NUMBER  DATE_TIME          -   \n",
       "4    Wrong entity  PHONE_NUMBER  DATE_TIME  4466x8827   \n",
       "..            ...           ...        ...        ...   \n",
       "532            FN  PHONE_NUMBER          O         81   \n",
       "533            FN  PHONE_NUMBER          O         21   \n",
       "534            FN  PHONE_NUMBER          O        232   \n",
       "535            FN  PHONE_NUMBER          O        945   \n",
       "536            FN  PHONE_NUMBER          O       1338   \n",
       "\n",
       "                                             full_text     0  \n",
       "0    Terry Cardoso PhD\\n\\n65 Bodbysund 61\\n Suite 5...  None  \n",
       "1    Terry Cardoso PhD\\n\\n65 Bodbysund 61\\n Suite 5...  None  \n",
       "2    Terry Cardoso PhD\\n\\n65 Bodbysund 61\\n Suite 5...  None  \n",
       "3    Terry Cardoso PhD\\n\\n65 Bodbysund 61\\n Suite 5...  None  \n",
       "4    Terry Cardoso PhD\\n\\n65 Bodbysund 61\\n Suite 5...  None  \n",
       "..                                                 ...   ...  \n",
       "532  Kelly Björgvinsdóttir\\nAdaptive\\n63 Via Verban...  None  \n",
       "533  Laura Gorski\\nMinistry Of Agriculture\\n07 57 a...  None  \n",
       "534  Laura Gorski\\nMinistry Of Agriculture\\n07 57 a...  None  \n",
       "535  Laura Gorski\\nMinistry Of Agriculture\\n07 57 a...  None  \n",
       "536  Laura Gorski\\nMinistry Of Agriculture\\n07 57 a...  None  \n",
       "\n",
       "[537 rows x 6 columns]"
      ]
     },
     "execution_count": 11,
     "metadata": {},
     "output_type": "execute_result"
    }
   ],
   "source": [
    "fns_df = ModelError.get_fns_dataframe(errors,entity='PHONE_NUMBER')\n",
    "fns_df"
   ]
  },
  {
   "cell_type": "code",
   "execution_count": null,
   "metadata": {},
   "outputs": [],
   "source": []
  }
 ],
 "metadata": {
  "kernelspec": {
   "display_name": "presidio",
   "language": "python",
   "name": "presidio"
  },
  "language_info": {
   "codemirror_mode": {
    "name": "ipython",
    "version": 3
   },
   "file_extension": ".py",
   "mimetype": "text/x-python",
   "name": "python",
   "nbconvert_exporter": "python",
   "pygments_lexer": "ipython3",
   "version": "3.8.12"
  }
 },
 "nbformat": 4,
 "nbformat_minor": 2
}