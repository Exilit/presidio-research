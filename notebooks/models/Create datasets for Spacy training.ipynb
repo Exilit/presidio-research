{
 "cells": [
  {
   "cell_type": "markdown",
   "metadata": {},
   "source": [
    "# Spacy dataset creation"
   ]
  },
  {
   "cell_type": "markdown",
   "metadata": {
    "pycharm": {
     "name": "#%% md\n"
    }
   },
   "source": [
    "This notebook takes train and test datasets (of type `List[InputSample]`)\n",
    "and transforms them into a structures consumed by Spacy. \n",
    "\n",
    "[See more on creating training data for spaCy here](https://spacy.io/usage/training#training-data)."
   ]
  },
  {
   "cell_type": "code",
   "execution_count": 1,
   "metadata": {},
   "outputs": [],
   "source": [
    "from presidio_evaluator import InputSample\n",
    "%reload_ext autoreload"
   ]
  },
  {
   "cell_type": "code",
   "execution_count": 2,
   "metadata": {
    "pycharm": {
     "name": "#%%\n"
    }
   },
   "outputs": [],
   "source": [
    "DATA_DATE = 'Dec-19-2021'"
   ]
  },
  {
   "cell_type": "code",
   "execution_count": 3,
   "metadata": {
    "pycharm": {
     "name": "#%%\n"
    }
   },
   "outputs": [
    {
     "name": "stderr",
     "output_type": "stream",
     "text": [
      "\r",
      "tokenizing input:   0%|                                                                       | 0/2122 [00:00<?, ?it/s]"
     ]
    },
    {
     "name": "stdout",
     "output_type": "stream",
     "text": [
      "loading model en_core_web_sm\n"
     ]
    },
    {
     "name": "stderr",
     "output_type": "stream",
     "text": [
      "tokenizing input: 100%|███████████████████████████████████████████████████████████| 2122/2122 [00:19<00:00, 109.66it/s]"
     ]
    },
    {
     "name": "stdout",
     "output_type": "stream",
     "text": [
      "Read 2122 samples\n"
     ]
    },
    {
     "name": "stderr",
     "output_type": "stream",
     "text": [
      "\n"
     ]
    }
   ],
   "source": [
    "data_path = \"../../data/{}_{}.json\"\n",
    "\n",
    "train_samples = InputSample.read_dataset_json(data_path.format(\"train\",DATA_DATE))\n",
    "print(\"Read {} samples\".format(len(train_samples)))"
   ]
  },
  {
   "cell_type": "markdown",
   "metadata": {
    "pycharm": {
     "name": "#%% md\n"
    }
   },
   "source": [
    "For training, keep only sentences with entities:"
   ]
  },
  {
   "cell_type": "code",
   "execution_count": 4,
   "metadata": {},
   "outputs": [
    {
     "name": "stdout",
     "output_type": "stream",
     "text": [
      "Kept 1940 samples after removal of non-tagged samples\n"
     ]
    }
   ],
   "source": [
    "train_tagged = [sample for sample in train_samples if len(sample.spans) > 0]\n",
    "print(\"Kept {} samples after removal of non-tagged samples\".format(len(train_tagged)))"
   ]
  },
  {
   "cell_type": "markdown",
   "metadata": {
    "pycharm": {
     "name": "#%% md\n"
    }
   },
   "source": [
    "Evaluate training set's entities"
   ]
  },
  {
   "cell_type": "code",
   "execution_count": 5,
   "metadata": {
    "pycharm": {
     "name": "#%%\n"
    }
   },
   "outputs": [
    {
     "name": "stdout",
     "output_type": "stream",
     "text": [
      "Entities found in training set:\n"
     ]
    },
    {
     "data": {
      "text/plain": [
       "{'ADDRESS',\n",
       " 'CREDIT_CARD',\n",
       " 'DATE_TIME',\n",
       " 'DOMAIN_NAME',\n",
       " 'EMAIL_ADDRESS',\n",
       " 'IBAN_CODE',\n",
       " 'IP_ADDRESS',\n",
       " 'LOCATION',\n",
       " 'O',\n",
       " 'ORGANIZATION',\n",
       " 'PERSON',\n",
       " 'PHONE_NUMBER',\n",
       " 'PREFIX',\n",
       " 'TITLE',\n",
       " 'US_SSN'}"
      ]
     },
     "execution_count": 5,
     "metadata": {},
     "output_type": "execute_result"
    }
   ],
   "source": [
    "print(\"Entities found in training set:\")\n",
    "entities = []\n",
    "for sample in train_tagged:\n",
    "    entities.extend([tag for tag in sample.tags])\n",
    "set(entities)"
   ]
  },
  {
   "cell_type": "markdown",
   "metadata": {
    "pycharm": {
     "name": "#%% md\n"
    }
   },
   "source": [
    "Create Spacy dataset"
   ]
  },
  {
   "cell_type": "code",
   "execution_count": null,
   "metadata": {
    "pycharm": {
     "name": "#%%\n"
    }
   },
   "outputs": [
    {
     "name": "stdout",
     "output_type": "stream",
     "text": [
      "Skipping illegal span None, text=ΜΟΝΗ ΑΓΙΩΝ ΑΝΑΡΓΥΡΩΝ\n",
      "Skipping illegal span None, text=U.N\n"
     ]
    }
   ],
   "source": [
    "spacy_train = InputSample.create_spacy_dataset(dataset=train_tagged, output_path = \"train.spacy\")\n"
   ]
  },
  {
   "cell_type": "code",
   "execution_count": null,
   "metadata": {},
   "outputs": [],
   "source": [
    "entities_spacy = [x[1]['entities'] for x in spacy_train]\n",
    "entities_spacy_flat = []\n",
    "for samp in entities_spacy:\n",
    "    for ent in samp:\n",
    "        entities_spacy_flat.append(ent[2])\n",
    "set(entities_spacy_flat)"
   ]
  },
  {
   "cell_type": "markdown",
   "metadata": {},
   "source": [
    "Quick evaluation of samples"
   ]
  },
  {
   "cell_type": "code",
   "execution_count": null,
   "metadata": {},
   "outputs": [],
   "source": [
    "[sample[0] for sample in spacy_train[:100]]"
   ]
  },
  {
   "cell_type": "markdown",
   "metadata": {},
   "source": [
    "Creating dataset files for test and validation"
   ]
  },
  {
   "cell_type": "code",
   "execution_count": null,
   "metadata": {},
   "outputs": [],
   "source": [
    "for fold in (\"test\",\"validation\"):\n",
    "    dataset = InputSample.read_dataset_json(data_path.format(fold,DATA_DATE))\n",
    "    print(f\"Read {len(dataset)} samples for {fold}\")\n",
    "    InputSample.create_spacy_dataset(dataset=dataset, output_path = f\"{fold}.spacy\")"
   ]
  },
  {
   "cell_type": "code",
   "execution_count": null,
   "metadata": {},
   "outputs": [],
   "source": []
  }
 ],
 "metadata": {
  "kernelspec": {
   "display_name": "presidio",
   "language": "python",
   "name": "presidio"
  },
  "language_info": {
   "codemirror_mode": {
    "name": "ipython",
    "version": 3
   },
   "file_extension": ".py",
   "mimetype": "text/x-python",
   "name": "python",
   "nbconvert_exporter": "python",
   "pygments_lexer": "ipython3",
   "version": "3.8.12"
  }
 },
 "nbformat": 4,
 "nbformat_minor": 2
}